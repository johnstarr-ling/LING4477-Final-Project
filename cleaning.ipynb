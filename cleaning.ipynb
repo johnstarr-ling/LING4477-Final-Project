{
 "cells": [
  {
   "cell_type": "code",
   "execution_count": 1,
   "metadata": {},
   "outputs": [],
   "source": [
    "import pandas as pd\n",
    "import re\n",
    "import numpy as np"
   ]
  },
  {
   "cell_type": "code",
   "execution_count": 2,
   "metadata": {},
   "outputs": [],
   "source": [
    "from IPython.core.interactiveshell import InteractiveShell\n",
    "InteractiveShell.ast_node_interactivity = \"all\""
   ]
  },
  {
   "cell_type": "code",
   "execution_count": 3,
   "metadata": {},
   "outputs": [],
   "source": [
    "sem_mal = pd.read_csv('sem_mal_rcleaned.csv', encoding='utf8')"
   ]
  },
  {
   "cell_type": "code",
   "execution_count": null,
   "metadata": {},
   "outputs": [],
   "source": []
  },
  {
   "cell_type": "code",
   "execution_count": 4,
   "metadata": {},
   "outputs": [],
   "source": [
    "exp = sem_mal[sem_mal['Label'] == 'experimental-trials'] "
   ]
  },
  {
   "cell_type": "code",
   "execution_count": null,
   "metadata": {},
   "outputs": [],
   "source": []
  },
  {
   "cell_type": "markdown",
   "metadata": {},
   "source": [
    "###  Errors\n",
    "- anapest_clean_3a.png -- alt1 is actually alt2\n",
    "- iambic_clean_2a.png -- IT and ALT should switch"
   ]
  },
  {
   "cell_type": "code",
   "execution_count": 5,
   "metadata": {},
   "outputs": [],
   "source": [
    "anapest_clean = exp[exp['filename'] == 'anapest_clean_3a.png'].copy()\n",
    "iambic_clean = exp[exp['filename'] == 'iambic_clean_2a.png'].copy()\n",
    "exp_fake = exp[exp['filename'] != 'anapest_clean_3a.png'].copy()\n",
    "exp_fake2 = exp_fake[exp_fake['filename'] != 'iambic_clean_2a.png'].copy()"
   ]
  },
  {
   "cell_type": "code",
   "execution_count": null,
   "metadata": {},
   "outputs": [],
   "source": []
  },
  {
   "cell_type": "code",
   "execution_count": 6,
   "metadata": {},
   "outputs": [],
   "source": [
    "out = []\n",
    "for item in iambic_clean['condition']:\n",
    "    if item == 'IT ONLY':\n",
    "        out.append('ALT ONLY')\n",
    "    elif item == 'ALT ONLY':\n",
    "        out.append('IT ONLY')\n",
    "    else:\n",
    "        out.append(item)"
   ]
  },
  {
   "cell_type": "code",
   "execution_count": 7,
   "metadata": {},
   "outputs": [],
   "source": [
    "iambic_clean['condition'] = out"
   ]
  },
  {
   "cell_type": "code",
   "execution_count": 8,
   "metadata": {},
   "outputs": [],
   "source": [
    "iam_error = iambic_clean[iambic_clean['condition'] == 'IT%2C ALT-IT'].copy()\n",
    "iam_clean = iambic_clean[iambic_clean['condition'] != 'IT%2C ALT-IT'].copy()"
   ]
  },
  {
   "cell_type": "code",
   "execution_count": 9,
   "metadata": {},
   "outputs": [],
   "source": [
    "out2 = []\n",
    "for item in iam_error['Value']:\n",
    "    if item == 'IT':\n",
    "        out2.append('alt1')\n",
    "    elif item == 'alt1':\n",
    "        out2.append('IT')\n",
    "    else:\n",
    "        out2.append(item)"
   ]
  },
  {
   "cell_type": "code",
   "execution_count": 10,
   "metadata": {},
   "outputs": [],
   "source": [
    "iam_error['Value'] = out2"
   ]
  },
  {
   "cell_type": "code",
   "execution_count": 11,
   "metadata": {},
   "outputs": [],
   "source": [
    "iamb_final = pd.concat([iam_error, iam_clean])"
   ]
  },
  {
   "cell_type": "code",
   "execution_count": null,
   "metadata": {},
   "outputs": [],
   "source": []
  },
  {
   "cell_type": "code",
   "execution_count": 12,
   "metadata": {},
   "outputs": [],
   "source": [
    "ana_error = anapest_clean[anapest_clean['condition'] == 'IT%2C ALT-IT'].copy()\n",
    "ana_clean = anapest_clean[anapest_clean['condition'] != 'IT%2C ALT-IT'].copy()"
   ]
  },
  {
   "cell_type": "code",
   "execution_count": 13,
   "metadata": {},
   "outputs": [],
   "source": [
    "out3 = []\n",
    "for item in ana_error['Value']:\n",
    "    if item == 'alt2':\n",
    "        out3.append('alt1')\n",
    "    elif item == 'alt1':\n",
    "        out3.append('alt2')\n",
    "    else:\n",
    "        out3.append(item)"
   ]
  },
  {
   "cell_type": "code",
   "execution_count": 14,
   "metadata": {},
   "outputs": [],
   "source": [
    "ana_error['Value'] = out3"
   ]
  },
  {
   "cell_type": "code",
   "execution_count": 15,
   "metadata": {},
   "outputs": [],
   "source": [
    "ana_final = pd.concat([ana_error, ana_clean])"
   ]
  },
  {
   "cell_type": "code",
   "execution_count": null,
   "metadata": {},
   "outputs": [],
   "source": []
  },
  {
   "cell_type": "code",
   "execution_count": 16,
   "metadata": {},
   "outputs": [],
   "source": [
    "exp = pd.concat([ana_final, iamb_final, exp_fake2])"
   ]
  },
  {
   "cell_type": "code",
   "execution_count": null,
   "metadata": {},
   "outputs": [],
   "source": []
  },
  {
   "cell_type": "code",
   "execution_count": null,
   "metadata": {},
   "outputs": [],
   "source": []
  },
  {
   "cell_type": "code",
   "execution_count": 17,
   "metadata": {},
   "outputs": [
    {
     "data": {
      "text/plain": [
       "['IT ONLY', 'ALT-IT ONLY', 'IT%2C ALT-IT', 'ALT ONLY', 'CONTROL']"
      ]
     },
     "execution_count": 17,
     "metadata": {},
     "output_type": "execute_result"
    }
   ],
   "source": [
    "fnames = list(set(exp['condition']))\n",
    "fnames"
   ]
  },
  {
   "cell_type": "code",
   "execution_count": null,
   "metadata": {},
   "outputs": [],
   "source": []
  },
  {
   "cell_type": "code",
   "execution_count": 18,
   "metadata": {},
   "outputs": [],
   "source": [
    "it = exp[exp['condition'] == 'IT ONLY']\n",
    "alt = exp[exp['condition'] == 'ALT-IT ONLY']\n",
    "both = exp[exp['condition'] == 'IT%2C ALT-IT']\n",
    "control = exp[exp['condition'] == 'CONTROL']"
   ]
  },
  {
   "cell_type": "code",
   "execution_count": 19,
   "metadata": {},
   "outputs": [
    {
     "data": {
      "text/plain": [
       "Start    32\n",
       "End      32\n",
       "No       31\n",
       "IT       31\n",
       "Name: Value, dtype: int64"
      ]
     },
     "execution_count": 19,
     "metadata": {},
     "output_type": "execute_result"
    },
    {
     "data": {
      "text/plain": [
       "Start    36\n",
       "End      36\n",
       "No       33\n",
       "IT       20\n",
       "alt1     11\n",
       "alt2      3\n",
       "Name: Value, dtype: int64"
      ]
     },
     "execution_count": 19,
     "metadata": {},
     "output_type": "execute_result"
    },
    {
     "data": {
      "text/plain": [
       "Start    36\n",
       "End      36\n",
       "No       35\n",
       "IT       33\n",
       "alt1      2\n",
       "Name: Value, dtype: int64"
      ]
     },
     "execution_count": 19,
     "metadata": {},
     "output_type": "execute_result"
    },
    {
     "data": {
      "text/plain": [
       "Start    36\n",
       "End      36\n",
       "No       34\n",
       "alt1     16\n",
       "IT       11\n",
       "alt2      7\n",
       "Name: Value, dtype: int64"
      ]
     },
     "execution_count": 19,
     "metadata": {},
     "output_type": "execute_result"
    }
   ],
   "source": [
    "it['Value'].value_counts()\n",
    "alt['Value'].value_counts()\n",
    "both['Value'].value_counts()\n",
    "control['Value'].value_counts()"
   ]
  },
  {
   "cell_type": "code",
   "execution_count": 20,
   "metadata": {},
   "outputs": [],
   "source": [
    "labels = ['Original IT', 'Original IT', 'Original IT', 'Original IT', 'Alternative IT', 'Alternative IT', 'Alternative IT', 'Alternative IT', 'BOTH', 'BOTH', 'BOTH', 'BOTH', 'CONTROL', 'CONTROL', 'CONTROL', 'CONTROL']\n",
    "selection = ['IT', 'ALT1', 'ALT2', 'NULL'] *4\n",
    "num_trials = [32,32,32,32,36,36,36,36,36,36,36,36,36,36,36,36]"
   ]
  },
  {
   "cell_type": "code",
   "execution_count": 21,
   "metadata": {},
   "outputs": [],
   "source": [
    "num_accept = [31, 0, 0, 1, 20, 10, 3, 3, 33, 2, 0, 1, 11, 16, 7, 2]"
   ]
  },
  {
   "cell_type": "code",
   "execution_count": 22,
   "metadata": {},
   "outputs": [],
   "source": [
    "prop_accept = [31/32, 0, 0 , 1/32, 20/36, 10/36, 3/36, 3/36, 33/36, 2/36, 0, 1/36, 11/36, 16/36, 7/36, 2/36]"
   ]
  },
  {
   "cell_type": "code",
   "execution_count": 23,
   "metadata": {},
   "outputs": [],
   "source": [
    "lower_bounds = [0.8378, 0, 0, 0.0008, 0.3810, 0.1420, 0.0175, 0.0175, 0.7753, 0.0068, 0, 0.0007, 0.1635, 0.2794, 0.0819, 0.0068]\n",
    "upper_bounds = [0.9992, 0, 0, 0.1222, 0.7206, 0.4519, 0.2247, 0.1247, 0.9825, 0.1066, 0, 0.1453, 0.4811, 0.6190, 0.3602, 0.1066]"
   ]
  },
  {
   "cell_type": "code",
   "execution_count": null,
   "metadata": {},
   "outputs": [],
   "source": []
  },
  {
   "cell_type": "code",
   "execution_count": null,
   "metadata": {},
   "outputs": [],
   "source": []
  },
  {
   "cell_type": "code",
   "execution_count": 24,
   "metadata": {},
   "outputs": [],
   "source": [
    "sem_mall_out = pd.DataFrame()"
   ]
  },
  {
   "cell_type": "code",
   "execution_count": 25,
   "metadata": {},
   "outputs": [],
   "source": [
    "sem_mall_out['Condition'] = labels\n",
    "sem_mall_out['Selection'] = selection\n",
    "sem_mall_out['rawCounts'] = num_accept\n",
    "sem_mall_out['numTrials'] = num_trials\n",
    "sem_mall_out['propSelection'] = prop_accept\n",
    "sem_mall_out['lowerCI'] = lower_bounds\n",
    "sem_mall_out['upperCI'] = upper_bounds"
   ]
  },
  {
   "cell_type": "code",
   "execution_count": null,
   "metadata": {},
   "outputs": [],
   "source": []
  },
  {
   "cell_type": "code",
   "execution_count": 26,
   "metadata": {},
   "outputs": [],
   "source": [
    "sem_mall_out.to_csv('sem_mall_totals.csv', index=False)"
   ]
  },
  {
   "cell_type": "code",
   "execution_count": null,
   "metadata": {},
   "outputs": [],
   "source": []
  },
  {
   "cell_type": "code",
   "execution_count": 27,
   "metadata": {},
   "outputs": [],
   "source": [
    "selections_only = pd.concat([it, alt, both, control])"
   ]
  },
  {
   "cell_type": "code",
   "execution_count": 28,
   "metadata": {},
   "outputs": [
    {
     "data": {
      "text/html": [
       "<div>\n",
       "<style scoped>\n",
       "    .dataframe tbody tr th:only-of-type {\n",
       "        vertical-align: middle;\n",
       "    }\n",
       "\n",
       "    .dataframe tbody tr th {\n",
       "        vertical-align: top;\n",
       "    }\n",
       "\n",
       "    .dataframe thead th {\n",
       "        text-align: right;\n",
       "    }\n",
       "</style>\n",
       "<table border=\"1\" class=\"dataframe\">\n",
       "  <thead>\n",
       "    <tr style=\"text-align: right;\">\n",
       "      <th></th>\n",
       "      <th>Unnamed: 0</th>\n",
       "      <th>Results.reception.time</th>\n",
       "      <th>MD5.hash.of.participant.s.IP.address</th>\n",
       "      <th>Controller.name</th>\n",
       "      <th>Order.number.of.item</th>\n",
       "      <th>Inner.element.number</th>\n",
       "      <th>Label</th>\n",
       "      <th>Latin.Square.Group</th>\n",
       "      <th>PennElementType</th>\n",
       "      <th>PennElementName</th>\n",
       "      <th>Parameter</th>\n",
       "      <th>Value</th>\n",
       "      <th>EventTime</th>\n",
       "      <th>condition</th>\n",
       "      <th>itemLabel</th>\n",
       "      <th>filename</th>\n",
       "      <th>Comments</th>\n",
       "    </tr>\n",
       "  </thead>\n",
       "  <tbody>\n",
       "    <tr>\n",
       "      <th>83</th>\n",
       "      <td>84</td>\n",
       "      <td>1651000826</td>\n",
       "      <td>decefc1e3a8a8eedeaa45693ea8d643a</td>\n",
       "      <td>PennController</td>\n",
       "      <td>13</td>\n",
       "      <td>0</td>\n",
       "      <td>experimental-trials</td>\n",
       "      <td>NaN</td>\n",
       "      <td>Selector</td>\n",
       "      <td>answer-alt</td>\n",
       "      <td>Selection</td>\n",
       "      <td>IT</td>\n",
       "      <td>1651000645826</td>\n",
       "      <td>ALT-IT ONLY</td>\n",
       "      <td>organized_alt</td>\n",
       "      <td>dactyl_clean_2b.jpg</td>\n",
       "      <td>alt1;IT;alt2</td>\n",
       "    </tr>\n",
       "    <tr>\n",
       "      <th>827</th>\n",
       "      <td>828</td>\n",
       "      <td>1651013504</td>\n",
       "      <td>35dfd4e4f319f9d99bfae3131f2a13bc</td>\n",
       "      <td>PennController</td>\n",
       "      <td>7</td>\n",
       "      <td>0</td>\n",
       "      <td>experimental-trials</td>\n",
       "      <td>NaN</td>\n",
       "      <td>Selector</td>\n",
       "      <td>answer-alt</td>\n",
       "      <td>Selection</td>\n",
       "      <td>IT</td>\n",
       "      <td>1651013035846</td>\n",
       "      <td>IT%2C ALT-IT</td>\n",
       "      <td>seasoning_both</td>\n",
       "      <td>iambic_clean_2a.png</td>\n",
       "      <td>alt1;IT;alt2</td>\n",
       "    </tr>\n",
       "    <tr>\n",
       "      <th>66</th>\n",
       "      <td>67</td>\n",
       "      <td>1651000826</td>\n",
       "      <td>decefc1e3a8a8eedeaa45693ea8d643a</td>\n",
       "      <td>PennController</td>\n",
       "      <td>10</td>\n",
       "      <td>0</td>\n",
       "      <td>experimental-trials</td>\n",
       "      <td>NaN</td>\n",
       "      <td>Selector</td>\n",
       "      <td>answer-alt</td>\n",
       "      <td>Selection</td>\n",
       "      <td>IT</td>\n",
       "      <td>1651000584799</td>\n",
       "      <td>IT ONLY</td>\n",
       "      <td>exhausted_it</td>\n",
       "      <td>trochaic_clean_3a.png</td>\n",
       "      <td>IT;alt1;alt2</td>\n",
       "    </tr>\n",
       "    <tr>\n",
       "      <th>765</th>\n",
       "      <td>766</td>\n",
       "      <td>1651008132</td>\n",
       "      <td>59e908e804691fafd3e79848cdc794e3</td>\n",
       "      <td>PennController</td>\n",
       "      <td>8</td>\n",
       "      <td>0</td>\n",
       "      <td>experimental-trials</td>\n",
       "      <td>NaN</td>\n",
       "      <td>Selector</td>\n",
       "      <td>answer-alt</td>\n",
       "      <td>Selection</td>\n",
       "      <td>IT</td>\n",
       "      <td>1651007388450</td>\n",
       "      <td>IT ONLY</td>\n",
       "      <td>weeds_it</td>\n",
       "      <td>iambic_clean_1a.jpg</td>\n",
       "      <td>IT;alt2;alt1</td>\n",
       "    </tr>\n",
       "    <tr>\n",
       "      <th>653</th>\n",
       "      <td>654</td>\n",
       "      <td>1651004051</td>\n",
       "      <td>44b6630033271b73974dc02e2b43ca46</td>\n",
       "      <td>PennController</td>\n",
       "      <td>6</td>\n",
       "      <td>0</td>\n",
       "      <td>experimental-trials</td>\n",
       "      <td>NaN</td>\n",
       "      <td>Selector</td>\n",
       "      <td>answer-alt</td>\n",
       "      <td>Selection</td>\n",
       "      <td>IT</td>\n",
       "      <td>1651003852561</td>\n",
       "      <td>ALT-IT ONLY</td>\n",
       "      <td>adhesive_alt</td>\n",
       "      <td>iambic_clean_1b.jpg</td>\n",
       "      <td>IT;alt1;alt2</td>\n",
       "    </tr>\n",
       "    <tr>\n",
       "      <th>480</th>\n",
       "      <td>481</td>\n",
       "      <td>1651003315</td>\n",
       "      <td>1a5ed2728eefe44a100abebf0c9a90bc</td>\n",
       "      <td>PennController</td>\n",
       "      <td>9</td>\n",
       "      <td>0</td>\n",
       "      <td>experimental-trials</td>\n",
       "      <td>NaN</td>\n",
       "      <td>Selector</td>\n",
       "      <td>answer-alt</td>\n",
       "      <td>Selection</td>\n",
       "      <td>IT</td>\n",
       "      <td>1651002953277</td>\n",
       "      <td>ALT-IT ONLY</td>\n",
       "      <td>store_alt</td>\n",
       "      <td>dactyl_clean_1b.jpg</td>\n",
       "      <td>alt1;alt2;IT</td>\n",
       "    </tr>\n",
       "    <tr>\n",
       "      <th>956</th>\n",
       "      <td>957</td>\n",
       "      <td>1651017955</td>\n",
       "      <td>43a176d6a64c52e4ceb188907a5c3943</td>\n",
       "      <td>PennController</td>\n",
       "      <td>8</td>\n",
       "      <td>0</td>\n",
       "      <td>experimental-trials</td>\n",
       "      <td>NaN</td>\n",
       "      <td>Selector</td>\n",
       "      <td>answer-alt</td>\n",
       "      <td>Selection</td>\n",
       "      <td>IT</td>\n",
       "      <td>1651017559488</td>\n",
       "      <td>IT%2C ALT-IT</td>\n",
       "      <td>weeds_both</td>\n",
       "      <td>iambic_clean_1a.jpg</td>\n",
       "      <td>alt2;IT;alt1</td>\n",
       "    </tr>\n",
       "    <tr>\n",
       "      <th>756</th>\n",
       "      <td>757</td>\n",
       "      <td>1651008132</td>\n",
       "      <td>59e908e804691fafd3e79848cdc794e3</td>\n",
       "      <td>PennController</td>\n",
       "      <td>6</td>\n",
       "      <td>0</td>\n",
       "      <td>experimental-trials</td>\n",
       "      <td>NaN</td>\n",
       "      <td>Selector</td>\n",
       "      <td>answer-alt</td>\n",
       "      <td>Selection</td>\n",
       "      <td>IT</td>\n",
       "      <td>1651007355377</td>\n",
       "      <td>IT%2C ALT-IT</td>\n",
       "      <td>adhesive_both</td>\n",
       "      <td>iambic_clean_1b.jpg</td>\n",
       "      <td>alt1;IT;alt2</td>\n",
       "    </tr>\n",
       "    <tr>\n",
       "      <th>535</th>\n",
       "      <td>536</td>\n",
       "      <td>1651003315</td>\n",
       "      <td>1a5ed2728eefe44a100abebf0c9a90bc</td>\n",
       "      <td>PennController</td>\n",
       "      <td>4</td>\n",
       "      <td>0</td>\n",
       "      <td>experimental-trials</td>\n",
       "      <td>NaN</td>\n",
       "      <td>Selector</td>\n",
       "      <td>answer-alt</td>\n",
       "      <td>Selection</td>\n",
       "      <td>IT</td>\n",
       "      <td>1651003155345</td>\n",
       "      <td>IT%2C ALT-IT</td>\n",
       "      <td>nostril_both</td>\n",
       "      <td>anapest_clean_3a.png</td>\n",
       "      <td>alt2;IT;alt1</td>\n",
       "    </tr>\n",
       "    <tr>\n",
       "      <th>439</th>\n",
       "      <td>440</td>\n",
       "      <td>1651001488</td>\n",
       "      <td>f67d7fee8be0ac4885ad8590ad784f0d</td>\n",
       "      <td>PennController</td>\n",
       "      <td>10</td>\n",
       "      <td>0</td>\n",
       "      <td>experimental-trials</td>\n",
       "      <td>NaN</td>\n",
       "      <td>Selector</td>\n",
       "      <td>answer-alt</td>\n",
       "      <td>Selection</td>\n",
       "      <td>alt1</td>\n",
       "      <td>1651001372607</td>\n",
       "      <td>ALT-IT ONLY</td>\n",
       "      <td>exhausted_alt</td>\n",
       "      <td>trochaic_clean_3a.png</td>\n",
       "      <td>alt2;alt1;IT</td>\n",
       "    </tr>\n",
       "  </tbody>\n",
       "</table>\n",
       "</div>"
      ],
      "text/plain": [
       "     Unnamed: 0  Results.reception.time MD5.hash.of.participant.s.IP.address  \\\n",
       "83           84              1651000826     decefc1e3a8a8eedeaa45693ea8d643a   \n",
       "827         828              1651013504     35dfd4e4f319f9d99bfae3131f2a13bc   \n",
       "66           67              1651000826     decefc1e3a8a8eedeaa45693ea8d643a   \n",
       "765         766              1651008132     59e908e804691fafd3e79848cdc794e3   \n",
       "653         654              1651004051     44b6630033271b73974dc02e2b43ca46   \n",
       "480         481              1651003315     1a5ed2728eefe44a100abebf0c9a90bc   \n",
       "956         957              1651017955     43a176d6a64c52e4ceb188907a5c3943   \n",
       "756         757              1651008132     59e908e804691fafd3e79848cdc794e3   \n",
       "535         536              1651003315     1a5ed2728eefe44a100abebf0c9a90bc   \n",
       "439         440              1651001488     f67d7fee8be0ac4885ad8590ad784f0d   \n",
       "\n",
       "    Controller.name  Order.number.of.item  Inner.element.number  \\\n",
       "83   PennController                    13                     0   \n",
       "827  PennController                     7                     0   \n",
       "66   PennController                    10                     0   \n",
       "765  PennController                     8                     0   \n",
       "653  PennController                     6                     0   \n",
       "480  PennController                     9                     0   \n",
       "956  PennController                     8                     0   \n",
       "756  PennController                     6                     0   \n",
       "535  PennController                     4                     0   \n",
       "439  PennController                    10                     0   \n",
       "\n",
       "                   Label  Latin.Square.Group PennElementType PennElementName  \\\n",
       "83   experimental-trials                 NaN        Selector      answer-alt   \n",
       "827  experimental-trials                 NaN        Selector      answer-alt   \n",
       "66   experimental-trials                 NaN        Selector      answer-alt   \n",
       "765  experimental-trials                 NaN        Selector      answer-alt   \n",
       "653  experimental-trials                 NaN        Selector      answer-alt   \n",
       "480  experimental-trials                 NaN        Selector      answer-alt   \n",
       "956  experimental-trials                 NaN        Selector      answer-alt   \n",
       "756  experimental-trials                 NaN        Selector      answer-alt   \n",
       "535  experimental-trials                 NaN        Selector      answer-alt   \n",
       "439  experimental-trials                 NaN        Selector      answer-alt   \n",
       "\n",
       "     Parameter Value      EventTime     condition       itemLabel  \\\n",
       "83   Selection    IT  1651000645826   ALT-IT ONLY   organized_alt   \n",
       "827  Selection    IT  1651013035846  IT%2C ALT-IT  seasoning_both   \n",
       "66   Selection    IT  1651000584799       IT ONLY    exhausted_it   \n",
       "765  Selection    IT  1651007388450       IT ONLY        weeds_it   \n",
       "653  Selection    IT  1651003852561   ALT-IT ONLY    adhesive_alt   \n",
       "480  Selection    IT  1651002953277   ALT-IT ONLY       store_alt   \n",
       "956  Selection    IT  1651017559488  IT%2C ALT-IT      weeds_both   \n",
       "756  Selection    IT  1651007355377  IT%2C ALT-IT   adhesive_both   \n",
       "535  Selection    IT  1651003155345  IT%2C ALT-IT    nostril_both   \n",
       "439  Selection  alt1  1651001372607   ALT-IT ONLY   exhausted_alt   \n",
       "\n",
       "                  filename      Comments  \n",
       "83     dactyl_clean_2b.jpg  alt1;IT;alt2  \n",
       "827    iambic_clean_2a.png  alt1;IT;alt2  \n",
       "66   trochaic_clean_3a.png  IT;alt1;alt2  \n",
       "765    iambic_clean_1a.jpg  IT;alt2;alt1  \n",
       "653    iambic_clean_1b.jpg  IT;alt1;alt2  \n",
       "480    dactyl_clean_1b.jpg  alt1;alt2;IT  \n",
       "956    iambic_clean_1a.jpg  alt2;IT;alt1  \n",
       "756    iambic_clean_1b.jpg  alt1;IT;alt2  \n",
       "535   anapest_clean_3a.png  alt2;IT;alt1  \n",
       "439  trochaic_clean_3a.png  alt2;alt1;IT  "
      ]
     },
     "execution_count": 28,
     "metadata": {},
     "output_type": "execute_result"
    }
   ],
   "source": [
    "selections_only = selections_only[selections_only['PennElementName'] == 'answer-alt']\n",
    "selections_only.sample(10)"
   ]
  },
  {
   "cell_type": "code",
   "execution_count": 29,
   "metadata": {},
   "outputs": [],
   "source": [
    "def assign_cond_num(string):\n",
    "    if string == 'IT':\n",
    "        return 0\n",
    "    elif string == 'alt1':\n",
    "        return 1\n",
    "    else:\n",
    "        return 2"
   ]
  },
  {
   "cell_type": "code",
   "execution_count": 30,
   "metadata": {},
   "outputs": [],
   "source": [
    "selections_only['response'] = selections_only['Value'].apply(assign_cond_num)"
   ]
  },
  {
   "cell_type": "code",
   "execution_count": 31,
   "metadata": {},
   "outputs": [],
   "source": [
    "alt_only = selections_only[selections_only['condition'] == 'ALT-IT ONLY']"
   ]
  },
  {
   "cell_type": "code",
   "execution_count": 32,
   "metadata": {},
   "outputs": [
    {
     "data": {
      "text/html": [
       "<div>\n",
       "<style scoped>\n",
       "    .dataframe tbody tr th:only-of-type {\n",
       "        vertical-align: middle;\n",
       "    }\n",
       "\n",
       "    .dataframe tbody tr th {\n",
       "        vertical-align: top;\n",
       "    }\n",
       "\n",
       "    .dataframe thead th {\n",
       "        text-align: right;\n",
       "    }\n",
       "</style>\n",
       "<table border=\"1\" class=\"dataframe\">\n",
       "  <thead>\n",
       "    <tr style=\"text-align: right;\">\n",
       "      <th></th>\n",
       "      <th>success</th>\n",
       "      <th>total</th>\n",
       "      <th>prop</th>\n",
       "    </tr>\n",
       "  </thead>\n",
       "  <tbody>\n",
       "    <tr>\n",
       "      <th>IT</th>\n",
       "      <td>20</td>\n",
       "      <td>33</td>\n",
       "      <td>0.606061</td>\n",
       "    </tr>\n",
       "    <tr>\n",
       "      <th>alt1</th>\n",
       "      <td>11</td>\n",
       "      <td>33</td>\n",
       "      <td>0.333333</td>\n",
       "    </tr>\n",
       "    <tr>\n",
       "      <th>alt2</th>\n",
       "      <td>3</td>\n",
       "      <td>33</td>\n",
       "      <td>0.090909</td>\n",
       "    </tr>\n",
       "  </tbody>\n",
       "</table>\n",
       "</div>"
      ],
      "text/plain": [
       "      success  total      prop\n",
       "IT         20     33  0.606061\n",
       "alt1       11     33  0.333333\n",
       "alt2        3     33  0.090909"
      ]
     },
     "execution_count": 32,
     "metadata": {},
     "output_type": "execute_result"
    }
   ],
   "source": [
    "success = alt_only['Value'].value_counts()\n",
    "total = alt['Value'].value_counts()['No']\n",
    "prop = success/total\n",
    "alt_prop = pd.DataFrame()\n",
    "alt_prop['success'] = success\n",
    "alt_prop['total'] = total\n",
    "alt_prop['prop'] = prop\n",
    "alt_prop"
   ]
  },
  {
   "cell_type": "code",
   "execution_count": 33,
   "metadata": {},
   "outputs": [],
   "source": [
    "alt_prop.to_csv('alt_prop_final.csv', index=False)"
   ]
  },
  {
   "cell_type": "code",
   "execution_count": 34,
   "metadata": {},
   "outputs": [],
   "source": [
    "selections_only.to_csv('mal_final.csv', index=False)"
   ]
  },
  {
   "cell_type": "code",
   "execution_count": null,
   "metadata": {},
   "outputs": [],
   "source": []
  },
  {
   "cell_type": "code",
   "execution_count": null,
   "metadata": {},
   "outputs": [],
   "source": []
  }
 ],
 "metadata": {
  "kernelspec": {
   "display_name": "Python 3",
   "language": "python",
   "name": "python3"
  },
  "language_info": {
   "codemirror_mode": {
    "name": "ipython",
    "version": 3
   },
   "file_extension": ".py",
   "mimetype": "text/x-python",
   "name": "python",
   "nbconvert_exporter": "python",
   "pygments_lexer": "ipython3",
   "version": "3.8.3"
  }
 },
 "nbformat": 4,
 "nbformat_minor": 4
}
